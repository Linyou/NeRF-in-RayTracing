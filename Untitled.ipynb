{
 "cells": [
  {
   "cell_type": "code",
   "execution_count": 1,
   "id": "ee956885-7742-4eaa-bd4b-9882565c592c",
   "metadata": {},
   "outputs": [
    {
     "name": "stdout",
     "output_type": "stream",
     "text": [
      "[Taichi] version 1.3.0, llvm 15.0.4, commit 0f25b95e, linux, python 3.9.13\n",
      "[I 12/04/22 12:52:02.324 1302638] [shell.py:_shell_pop_print@33] Graphical python shell detected, using wrapped sys.stdout\n"
     ]
    }
   ],
   "source": [
    "import numpy as np\n",
    "import taichi as ti"
   ]
  },
  {
   "cell_type": "code",
   "execution_count": 2,
   "id": "eb0175bf-4321-472c-85c3-bdaa016ecb47",
   "metadata": {},
   "outputs": [],
   "source": [
    "aspect_ratio = 3.0 / 2.0\n",
    "image_width = 1200\n",
    "image_height = int(image_width / aspect_ratio)"
   ]
  },
  {
   "cell_type": "code",
   "execution_count": 4,
   "id": "cf1460f2-9583-4748-aa04-f810dba463f4",
   "metadata": {},
   "outputs": [
    {
     "name": "stdout",
     "output_type": "stream",
     "text": [
      "[Taichi] Starting on arch=cuda\n"
     ]
    }
   ],
   "source": [
    "ti.init(arch=ti.gpu)"
   ]
  },
  {
   "cell_type": "code",
   "execution_count": 5,
   "id": "bf418ad0-4c70-4f6c-b5f5-df478cfe24c9",
   "metadata": {},
   "outputs": [],
   "source": [
    "cube_ray_org = ti.Vector.field(3, dtype=ti.f32, shape=(image_width*image_height*10))\n",
    "cube_ray_dir = ti.Vector.field(3, dtype=ti.f32, shape=(image_width*image_height*10))"
   ]
  },
  {
   "cell_type": "code",
   "execution_count": 9,
   "id": "e5687fe3-b518-4210-8081-6d23dc417fb3",
   "metadata": {},
   "outputs": [],
   "source": [
    "data = np.load('./ray_dict.npy', allow_pickle=True).item()\n",
    "cube_ray_org.from_numpy(data['ray_o'])\n",
    "cube_ray_dir.from_numpy(data['ray_d'])"
   ]
  },
  {
   "cell_type": "code",
   "execution_count": 13,
   "id": "6202d29b-170c-49ee-9390-4b5d3b6f7006",
   "metadata": {},
   "outputs": [
    {
     "name": "stdout",
     "output_type": "stream",
     "text": [
      "[[ 4.0936375  -0.00970951  1.6366049 ]\n",
      " [ 4.6656218  -0.01208569  1.5848774 ]\n",
      " [ 4.4596133  -0.01127084  1.6405835 ]\n",
      " ...\n",
      " [ 0.          0.          0.        ]\n",
      " [ 0.          0.          0.        ]\n",
      " [ 0.          0.          0.        ]]\n"
     ]
    }
   ],
   "source": [
    "print(cube_ray_org)"
   ]
  },
  {
   "cell_type": "code",
   "execution_count": null,
   "id": "ade58679-0e94-4eab-a775-47111f51b912",
   "metadata": {},
   "outputs": [],
   "source": []
  }
 ],
 "metadata": {
  "kernelspec": {
   "display_name": "Python [conda env:taichi]",
   "language": "python",
   "name": "conda-env-taichi-py"
  },
  "language_info": {
   "codemirror_mode": {
    "name": "ipython",
    "version": 3
   },
   "file_extension": ".py",
   "mimetype": "text/x-python",
   "name": "python",
   "nbconvert_exporter": "python",
   "pygments_lexer": "ipython3",
   "version": "3.9.13"
  }
 },
 "nbformat": 4,
 "nbformat_minor": 5
}
